{
 "cells": [
  {
   "cell_type": "markdown",
   "id": "2ec41af1-28ac-490a-865f-6d82cc0b94e2",
   "metadata": {},
   "source": [
    "# Linear Regression"
   ]
  },
  {
   "cell_type": "markdown",
   "id": "bc2f1e4b-724b-4b60-82dc-ab4eaa96e72d",
   "metadata": {},
   "source": [
    "## Loss function"
   ]
  },
  {
   "cell_type": "code",
   "execution_count": 1,
   "id": "99565a99-817c-48df-b4b6-56b879f3ec94",
   "metadata": {},
   "outputs": [],
   "source": [
    "# Mean Squared Error (MSE)\n",
    "def loss_function(y, y_pred):\n",
    "    return (y - y_pred) ** 2"
   ]
  },
  {
   "cell_type": "markdown",
   "id": "0eab91d6-089e-4b29-be06-0fa6faac6d83",
   "metadata": {},
   "source": [
    "## Cost function"
   ]
  },
  {
   "cell_type": "code",
   "execution_count": 2,
   "id": "d49a2035-8c6f-4ef7-96bc-67d43eaef6dd",
   "metadata": {},
   "outputs": [],
   "source": [
    "# Cost function\n",
    "def compute_cost(x, y, w, b):\n",
    "    total_loss = 0\n",
    "    m = x.shape[0]\n",
    "    for i in range(m):\n",
    "        y_pred = w*x[i] + b\n",
    "        loss = loss_function(y[i], y_pred)\n",
    "        total_loss += loss\n",
    "    total_cost = total_loss / (2*m)\n",
    "    return total_cost"
   ]
  },
  {
   "cell_type": "markdown",
   "id": "82d4143f-7b63-4da8-9de8-5b9e6a724f63",
   "metadata": {},
   "source": [
    "## Gradient function"
   ]
  },
  {
   "cell_type": "code",
   "execution_count": 3,
   "id": "29cf1ef4-f344-4cb5-bb7b-514b6c9ff9c5",
   "metadata": {},
   "outputs": [],
   "source": [
    "# Gradient function\n",
    "def compute_gradient(x, y, w, b):\n",
    "    m = x.shape[0]\n",
    "    dj_dw = 0\n",
    "    dj_wb = 0\n",
    "    for i in range(m):\n",
    "        f_wb = w*x[i] + b\n",
    "        dj_dw += (f_wb - y[i])*x[i]\n",
    "        dj_db += f_wb - y[i]\n",
    "    dj_dw /= m\n",
    "    dj_db /= m\n",
    "    return dj_dw, dj_db"
   ]
  }
 ],
 "metadata": {
  "kernelspec": {
   "display_name": "Python 3 (ipykernel)",
   "language": "python",
   "name": "python3"
  },
  "language_info": {
   "codemirror_mode": {
    "name": "ipython",
    "version": 3
   },
   "file_extension": ".py",
   "mimetype": "text/x-python",
   "name": "python",
   "nbconvert_exporter": "python",
   "pygments_lexer": "ipython3",
   "version": "3.12.3"
  }
 },
 "nbformat": 4,
 "nbformat_minor": 5
}
