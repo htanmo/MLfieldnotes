{
 "cells": [
  {
   "cell_type": "markdown",
   "id": "2ec41af1-28ac-490a-865f-6d82cc0b94e2",
   "metadata": {},
   "source": [
    "# Linear Regression"
   ]
  },
  {
   "cell_type": "markdown",
   "id": "bc2f1e4b-724b-4b60-82dc-ab4eaa96e72d",
   "metadata": {},
   "source": [
    "## Loss function"
   ]
  },
  {
   "cell_type": "code",
   "execution_count": 1,
   "id": "99565a99-817c-48df-b4b6-56b879f3ec94",
   "metadata": {},
   "outputs": [],
   "source": [
    "# Mean Squared Error (MSE)\n",
    "def loss_function(y, y_pred):\n",
    "    return (y - y_pred) ** 2"
   ]
  },
  {
   "cell_type": "markdown",
   "id": "0eab91d6-089e-4b29-be06-0fa6faac6d83",
   "metadata": {},
   "source": [
    "## Cost function"
   ]
  },
  {
   "cell_type": "code",
   "execution_count": 2,
   "id": "d49a2035-8c6f-4ef7-96bc-67d43eaef6dd",
   "metadata": {},
   "outputs": [],
   "source": [
    "# Cost function\n",
    "def compute_cost(x, y, w, b):\n",
    "    total_loss = 0\n",
    "    m = x.shape[0]\n",
    "    for i in range(m):\n",
    "        y_pred = w*x[i] + b\n",
    "        loss = loss_function(y[i], y_pred)\n",
    "        total_loss += loss\n",
    "    total_cost = total_loss / (2*m)\n",
    "    return total_cost"
   ]
  },
  {
   "cell_type": "code",
   "execution_count": null,
   "id": "80a08066-d8c8-4384-a578-f88fea825733",
   "metadata": {},
   "outputs": [],
   "source": []
  }
 ],
 "metadata": {
  "kernelspec": {
   "display_name": "Python 3 (ipykernel)",
   "language": "python",
   "name": "python3"
  },
  "language_info": {
   "codemirror_mode": {
    "name": "ipython",
    "version": 3
   },
   "file_extension": ".py",
   "mimetype": "text/x-python",
   "name": "python",
   "nbconvert_exporter": "python",
   "pygments_lexer": "ipython3",
   "version": "3.12.3"
  }
 },
 "nbformat": 4,
 "nbformat_minor": 5
}
