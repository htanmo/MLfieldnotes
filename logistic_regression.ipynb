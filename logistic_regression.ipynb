{
 "cells": [
  {
   "cell_type": "markdown",
   "id": "d3646c31-33dc-4d35-88e7-d5928abb4a8e",
   "metadata": {},
   "source": [
    "# Logistic Regression"
   ]
  },
  {
   "cell_type": "markdown",
   "id": "7717c157-fe2a-47cd-89d2-31c84df06577",
   "metadata": {},
   "source": [
    "## Sigmoid function"
   ]
  },
  {
   "cell_type": "code",
   "execution_count": 1,
   "id": "43ca7d47-c916-4b79-a2e2-cc6583bcf974",
   "metadata": {},
   "outputs": [],
   "source": [
    "import numpy as np"
   ]
  },
  {
   "cell_type": "code",
   "execution_count": 2,
   "id": "b9238489-c49d-43d7-a360-d2e3e249e927",
   "metadata": {},
   "outputs": [],
   "source": [
    "# Sigmoid function\n",
    "def sigmoid(z):\n",
    "    g = 1 / (1 + np.exp(-z))\n",
    "    return g"
   ]
  },
  {
   "cell_type": "markdown",
   "id": "0cc88db0-0acf-4959-b803-2201b7ab72df",
   "metadata": {},
   "source": [
    "## Loss function"
   ]
  },
  {
   "cell_type": "code",
   "execution_count": 3,
   "id": "92f4288f-a652-433c-9fcd-5531e6b6c8a2",
   "metadata": {},
   "outputs": [],
   "source": [
    "# Loss function\n",
    "def loss_function(y, y_pred):\n",
    "    loss = -y * math.log(y_pred) - (1 - y) * math.log((1 - y_pred))\n",
    "    return loss"
   ]
  },
  {
   "cell_type": "markdown",
   "id": "b8a6b9c2-1c8c-4f45-8d7d-cb56f8ca8c4e",
   "metadata": {},
   "source": [
    "## Cost function "
   ]
  },
  {
   "cell_type": "code",
   "execution_count": 4,
   "id": "77197b21-725f-4a28-9e43-536553d4e8e0",
   "metadata": {},
   "outputs": [],
   "source": [
    "# Cost function\n",
    "def compute_cost(X, y, w, b, *argv):\n",
    "    m, n = X.shape\n",
    "    loss_sum = 0\n",
    "    for i in range (m):\n",
    "        z_wb = 0\n",
    "        for j in range(n):\n",
    "            z_wb += w[j] * X[i, j]\n",
    "        z_wb += b\n",
    "        f_wb = sigmoid(z_wb)\n",
    "        loss_sum += -y[i] * math.log(f_wb) - (1 - y[i]) * math.log((1 - f_wb))\n",
    "        \n",
    "    total_cost = loss_sum / m\n",
    "    return total_cost"
   ]
  },
  {
   "cell_type": "markdown",
   "id": "ecc17ac3-c70a-479c-8158-41a1b52321fe",
   "metadata": {},
   "source": [
    "## Gradient function"
   ]
  },
  {
   "cell_type": "code",
   "execution_count": 5,
   "id": "79ae8740-23dd-4ac1-9189-1ce2d8898054",
   "metadata": {},
   "outputs": [],
   "source": [
    "# Gradient function\n",
    "def compute_gradient(X, y, w, b, *argv): \n",
    "    m, n = X.shape\n",
    "    dj_dw = np.zeros(w.shape)\n",
    "    dj_db = 0.\n",
    "    \n",
    "    for i in range(m):\n",
    "        z_wb = 0\n",
    "        for j in range(n): \n",
    "            z_wb += w[j] * X[i,j]\n",
    "            \n",
    "        z_wb += b\n",
    "        f_wb = sigmoid(z_wb)\n",
    "        \n",
    "        dj_db_i = f_wb - y[i]\n",
    "        dj_db += dj_db_i\n",
    "        \n",
    "        for j in range(n):\n",
    "            dj_dw[j] += (f_wb - y[i]) * X[i,j]\n",
    "            \n",
    "    dj_dw /= m\n",
    "    dj_db /= m\n",
    "\n",
    "    return dj_db, dj_dw"
   ]
  },
  {
   "cell_type": "markdown",
   "id": "bd7a0900-c505-474e-bb5f-a6b1bbc6b696",
   "metadata": {},
   "source": [
    "## Gradient Descent Algorithm"
   ]
  },
  {
   "cell_type": "code",
   "execution_count": null,
   "id": "caa42f5d-ae8c-4861-bc9e-bfd4a287254e",
   "metadata": {},
   "outputs": [],
   "source": [
    "def gradient_descent(X, y, w_in, b_in, cost_function, gradient_function, alpha, num_iters, lambda_):\n",
    "    m = len(X)\n",
    "    w = copy.deepcopy(w_in)\n",
    "    b = copy.deepcopy(b_in)\n",
    "    for i in range(num_iters):\n",
    "        dj_db, dj_dw = gradient_function(X, y, w_in, b_in, lambda_)   \n",
    "\n",
    "        w = w - alpha * dj_dw               \n",
    "        b = b - alpha * dj_db              \n",
    "       \n",
    "        cost =  cost_function(X, y, w, b, lambda_)\n",
    "        print(f\"cost in {i}th iteration: {cost}\")\n",
    "    \n",
    "    print(f\"final w: {w} and b: {b}\")    \n",
    "    return w, b"
   ]
  }
 ],
 "metadata": {
  "kernelspec": {
   "display_name": "Python 3 (ipykernel)",
   "language": "python",
   "name": "python3"
  },
  "language_info": {
   "codemirror_mode": {
    "name": "ipython",
    "version": 3
   },
   "file_extension": ".py",
   "mimetype": "text/x-python",
   "name": "python",
   "nbconvert_exporter": "python",
   "pygments_lexer": "ipython3",
   "version": "3.12.3"
  }
 },
 "nbformat": 4,
 "nbformat_minor": 5
}
